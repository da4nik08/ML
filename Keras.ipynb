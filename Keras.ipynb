{
 "cells": [
  {
   "cell_type": "code",
   "execution_count": 1,
   "id": "08736594-38b7-4b8b-94a6-19cf2156f6fd",
   "metadata": {},
   "outputs": [],
   "source": [
    "import keras\n",
    "import numpy as np\n",
    "import pandas as pd\n",
    "from keras.models import load_model\n",
    "from keras.models import Sequential\n",
    "from keras.layers import Dense, Dropout\n",
    "from sklearn.model_selection import train_test_split\n",
    "from sklearn import preprocessing\n",
    "import matplotlib.pyplot as plt\n",
    "import seaborn as sns"
   ]
  },
  {
   "cell_type": "code",
   "execution_count": 2,
   "id": "c944e0a3-9418-45f2-a3b2-dc750e092334",
   "metadata": {},
   "outputs": [],
   "source": [
    "dataset = pd.read_csv('bank-full.csv', sep=';')"
   ]
  },
  {
   "cell_type": "code",
   "execution_count": 3,
   "id": "9127cf82-4a48-4d8f-8741-35a8d9c88aca",
   "metadata": {},
   "outputs": [
    {
     "name": "stdout",
     "output_type": "stream",
     "text": [
      "<class 'pandas.core.frame.DataFrame'>\n",
      "RangeIndex: 45211 entries, 0 to 45210\n",
      "Data columns (total 17 columns):\n",
      " #   Column     Non-Null Count  Dtype \n",
      "---  ------     --------------  ----- \n",
      " 0   age        45211 non-null  int64 \n",
      " 1   job        45211 non-null  object\n",
      " 2   marital    45211 non-null  object\n",
      " 3   education  45211 non-null  object\n",
      " 4   default    45211 non-null  object\n",
      " 5   balance    45211 non-null  int64 \n",
      " 6   housing    45211 non-null  object\n",
      " 7   loan       45211 non-null  object\n",
      " 8   contact    45211 non-null  object\n",
      " 9   day        45211 non-null  int64 \n",
      " 10  month      45211 non-null  object\n",
      " 11  duration   45211 non-null  int64 \n",
      " 12  campaign   45211 non-null  int64 \n",
      " 13  pdays      45211 non-null  int64 \n",
      " 14  previous   45211 non-null  int64 \n",
      " 15  poutcome   45211 non-null  object\n",
      " 16  y          45211 non-null  object\n",
      "dtypes: int64(7), object(10)\n",
      "memory usage: 5.9+ MB\n"
     ]
    }
   ],
   "source": [
    "dataset.info()"
   ]
  },
  {
   "cell_type": "code",
   "execution_count": 4,
   "id": "fc5bff95-941a-4261-b34e-d6763f4e3569",
   "metadata": {},
   "outputs": [
    {
     "data": {
      "text/html": [
       "<div>\n",
       "<style scoped>\n",
       "    .dataframe tbody tr th:only-of-type {\n",
       "        vertical-align: middle;\n",
       "    }\n",
       "\n",
       "    .dataframe tbody tr th {\n",
       "        vertical-align: top;\n",
       "    }\n",
       "\n",
       "    .dataframe thead th {\n",
       "        text-align: right;\n",
       "    }\n",
       "</style>\n",
       "<table border=\"1\" class=\"dataframe\">\n",
       "  <thead>\n",
       "    <tr style=\"text-align: right;\">\n",
       "      <th></th>\n",
       "      <th>age</th>\n",
       "      <th>balance</th>\n",
       "      <th>day</th>\n",
       "      <th>duration</th>\n",
       "      <th>campaign</th>\n",
       "      <th>pdays</th>\n",
       "      <th>previous</th>\n",
       "    </tr>\n",
       "  </thead>\n",
       "  <tbody>\n",
       "    <tr>\n",
       "      <th>count</th>\n",
       "      <td>45211.000000</td>\n",
       "      <td>45211.000000</td>\n",
       "      <td>45211.000000</td>\n",
       "      <td>45211.000000</td>\n",
       "      <td>45211.000000</td>\n",
       "      <td>45211.000000</td>\n",
       "      <td>45211.000000</td>\n",
       "    </tr>\n",
       "    <tr>\n",
       "      <th>mean</th>\n",
       "      <td>40.936210</td>\n",
       "      <td>1362.272058</td>\n",
       "      <td>15.806419</td>\n",
       "      <td>258.163080</td>\n",
       "      <td>2.763841</td>\n",
       "      <td>40.197828</td>\n",
       "      <td>0.580323</td>\n",
       "    </tr>\n",
       "    <tr>\n",
       "      <th>std</th>\n",
       "      <td>10.618762</td>\n",
       "      <td>3044.765829</td>\n",
       "      <td>8.322476</td>\n",
       "      <td>257.527812</td>\n",
       "      <td>3.098021</td>\n",
       "      <td>100.128746</td>\n",
       "      <td>2.303441</td>\n",
       "    </tr>\n",
       "    <tr>\n",
       "      <th>min</th>\n",
       "      <td>18.000000</td>\n",
       "      <td>-8019.000000</td>\n",
       "      <td>1.000000</td>\n",
       "      <td>0.000000</td>\n",
       "      <td>1.000000</td>\n",
       "      <td>-1.000000</td>\n",
       "      <td>0.000000</td>\n",
       "    </tr>\n",
       "    <tr>\n",
       "      <th>25%</th>\n",
       "      <td>33.000000</td>\n",
       "      <td>72.000000</td>\n",
       "      <td>8.000000</td>\n",
       "      <td>103.000000</td>\n",
       "      <td>1.000000</td>\n",
       "      <td>-1.000000</td>\n",
       "      <td>0.000000</td>\n",
       "    </tr>\n",
       "    <tr>\n",
       "      <th>50%</th>\n",
       "      <td>39.000000</td>\n",
       "      <td>448.000000</td>\n",
       "      <td>16.000000</td>\n",
       "      <td>180.000000</td>\n",
       "      <td>2.000000</td>\n",
       "      <td>-1.000000</td>\n",
       "      <td>0.000000</td>\n",
       "    </tr>\n",
       "    <tr>\n",
       "      <th>75%</th>\n",
       "      <td>48.000000</td>\n",
       "      <td>1428.000000</td>\n",
       "      <td>21.000000</td>\n",
       "      <td>319.000000</td>\n",
       "      <td>3.000000</td>\n",
       "      <td>-1.000000</td>\n",
       "      <td>0.000000</td>\n",
       "    </tr>\n",
       "    <tr>\n",
       "      <th>max</th>\n",
       "      <td>95.000000</td>\n",
       "      <td>102127.000000</td>\n",
       "      <td>31.000000</td>\n",
       "      <td>4918.000000</td>\n",
       "      <td>63.000000</td>\n",
       "      <td>871.000000</td>\n",
       "      <td>275.000000</td>\n",
       "    </tr>\n",
       "  </tbody>\n",
       "</table>\n",
       "</div>"
      ],
      "text/plain": [
       "                age        balance           day      duration      campaign  \\\n",
       "count  45211.000000   45211.000000  45211.000000  45211.000000  45211.000000   \n",
       "mean      40.936210    1362.272058     15.806419    258.163080      2.763841   \n",
       "std       10.618762    3044.765829      8.322476    257.527812      3.098021   \n",
       "min       18.000000   -8019.000000      1.000000      0.000000      1.000000   \n",
       "25%       33.000000      72.000000      8.000000    103.000000      1.000000   \n",
       "50%       39.000000     448.000000     16.000000    180.000000      2.000000   \n",
       "75%       48.000000    1428.000000     21.000000    319.000000      3.000000   \n",
       "max       95.000000  102127.000000     31.000000   4918.000000     63.000000   \n",
       "\n",
       "              pdays      previous  \n",
       "count  45211.000000  45211.000000  \n",
       "mean      40.197828      0.580323  \n",
       "std      100.128746      2.303441  \n",
       "min       -1.000000      0.000000  \n",
       "25%       -1.000000      0.000000  \n",
       "50%       -1.000000      0.000000  \n",
       "75%       -1.000000      0.000000  \n",
       "max      871.000000    275.000000  "
      ]
     },
     "execution_count": 4,
     "metadata": {},
     "output_type": "execute_result"
    }
   ],
   "source": [
    "dataset.describe()"
   ]
  },
  {
   "cell_type": "code",
   "execution_count": 5,
   "id": "977f1cd3-a35a-4d8d-8cd1-5b8101c44738",
   "metadata": {},
   "outputs": [
    {
     "data": {
      "image/png": "[encoded data removed]",
      "text/plain": [
       "<Figure size 720x720 with 2 Axes>"
      ]
     },
     "metadata": {
      "needs_background": "light"
     },
     "output_type": "display_data"
    }
   ],
   "source": [
    "fig, ax = plt.subplots(figsize=(10, 10))\n",
    "sns.heatmap(dataset.corr(), cbar=True, annot=True)\n",
    "\n",
    "plt.show()"
   ]
  },
  {
   "cell_type": "code",
   "execution_count": 6,
   "id": "75996cdc-8e10-4a6c-ab25-d296213fa72b",
   "metadata": {},
   "outputs": [],
   "source": [
    "def Norm_Sklearn(df, atr_list):\n",
    "    df[atr_list] = preprocessing.normalize(np.array(df[atr_list]), axis=0, norm='l2')"
   ]
  },
  {
   "cell_type": "code",
   "execution_count": 7,
   "id": "316dff95-c631-458c-a81c-ccfe3b3a2d76",
   "metadata": {},
   "outputs": [],
   "source": [
    "def Norm_Gaussian(df, atr_list):\n",
    "    for atr in atr_list:\n",
    "        df[atr] = (df[atr] - df[atr].mean()) / df[atr].std()"
   ]
  },
  {
   "cell_type": "code",
   "execution_count": 8,
   "id": "d11bcc65-730f-42b3-aa6b-b57a1402d6f3",
   "metadata": {},
   "outputs": [],
   "source": [
    "def Encoder(df, atr_list):\n",
    "    enc = preprocessing.OrdinalEncoder(encoded_missing_value=-1)\n",
    "    df[atr_list] = enc.fit_transform(df[atr_list])"
   ]
  },
  {
   "cell_type": "code",
   "execution_count": 9,
   "id": "5835071b-ef2d-450a-8aa5-63e9814e72ac",
   "metadata": {},
   "outputs": [
    {
     "name": "stdout",
     "output_type": "stream",
     "text": [
      "   age           job   marital  education default  balance housing loan  \\\n",
      "0   58    management   married   tertiary      no     2143     yes   no   \n",
      "1   44    technician    single  secondary      no       29     yes   no   \n",
      "2   33  entrepreneur   married  secondary      no        2     yes  yes   \n",
      "3   47   blue-collar   married    unknown      no     1506     yes   no   \n",
      "4   33       unknown    single    unknown      no        1      no   no   \n",
      "5   35    management   married   tertiary      no      231     yes   no   \n",
      "6   28    management    single   tertiary      no      447     yes  yes   \n",
      "7   42  entrepreneur  divorced   tertiary     yes        2     yes   no   \n",
      "8   58       retired   married    primary      no      121     yes   no   \n",
      "9   43    technician    single  secondary      no      593     yes   no   \n",
      "\n",
      "   contact  day month  duration  campaign  pdays  previous poutcome   y  \n",
      "0  unknown    5   may       261         1     -1         0  unknown  no  \n",
      "1  unknown    5   may       151         1     -1         0  unknown  no  \n",
      "2  unknown    5   may        76         1     -1         0  unknown  no  \n",
      "3  unknown    5   may        92         1     -1         0  unknown  no  \n",
      "4  unknown    5   may       198         1     -1         0  unknown  no  \n",
      "5  unknown    5   may       139         1     -1         0  unknown  no  \n",
      "6  unknown    5   may       217         1     -1         0  unknown  no  \n",
      "7  unknown    5   may       380         1     -1         0  unknown  no  \n",
      "8  unknown    5   may        50         1     -1         0  unknown  no  \n",
      "9  unknown    5   may        55         1     -1         0  unknown  no  \n"
     ]
    }
   ],
   "source": [
    "print(dataset.head(10))"
   ]
  },
  {
   "cell_type": "code",
   "execution_count": 10,
   "id": "3c3c3c21-7bf1-4e66-9837-b565d2846830",
   "metadata": {},
   "outputs": [],
   "source": [
    "data = dataset.copy()"
   ]
  },
  {
   "cell_type": "code",
   "execution_count": 11,
   "id": "4b52f69c-6afe-493f-89a5-e1b40a43213c",
   "metadata": {},
   "outputs": [
    {
     "data": {
      "image/png": "[encoded data removed]",
      "text/plain": [
       "<Figure size 648x648 with 1 Axes>"
      ]
     },
     "metadata": {
      "needs_background": "light"
     },
     "output_type": "display_data"
    }
   ],
   "source": [
    "plt.figure(figsize=(9, 9))\n",
    "data['balance'].plot()\n",
    "plt.show()"
   ]
  },
  {
   "cell_type": "code",
   "execution_count": 12,
   "id": "4af3f253-41b6-428f-a47f-064ab555f49d",
   "metadata": {},
   "outputs": [],
   "source": [
    "Norm_Sklearn(data, [\"age\", \"day\", \"balance\", \"duration\", \"pdays\", \"previous\", \"campaign\"])"
   ]
  },
  {
   "cell_type": "code",
   "execution_count": 13,
   "id": "07065b78-e73c-44aa-a053-b374aa3e5cfc",
   "metadata": {},
   "outputs": [],
   "source": [
    "Encoder(data, [\"job\", \"marital\", \"education\", \"default\", \"housing\", \"loan\", \"contact\", \"month\", \"poutcome\", \"y\"])"
   ]
  },
  {
   "cell_type": "code",
   "execution_count": 14,
   "id": "6b42b630-edc4-443a-892f-f96418fa83ab",
   "metadata": {},
   "outputs": [
    {
     "name": "stdout",
     "output_type": "stream",
     "text": [
      "        age   job  marital  education  default   balance  housing  loan  \\\n",
      "0  0.006450   4.0      1.0        2.0      0.0  0.003022      1.0   0.0   \n",
      "1  0.004893   9.0      2.0        1.0      0.0  0.000041      1.0   0.0   \n",
      "2  0.003670   2.0      1.0        1.0      0.0  0.000003      1.0   1.0   \n",
      "3  0.005227   1.0      1.0        3.0      0.0  0.002123      1.0   0.0   \n",
      "4  0.003670  11.0      2.0        3.0      0.0  0.000001      0.0   0.0   \n",
      "5  0.003892   4.0      1.0        2.0      0.0  0.000326      1.0   0.0   \n",
      "6  0.003114   4.0      2.0        2.0      0.0  0.000630      1.0   1.0   \n",
      "7  0.004671   2.0      0.0        2.0      1.0  0.000003      1.0   0.0   \n",
      "8  0.006450   5.0      1.0        0.0      0.0  0.000171      1.0   0.0   \n",
      "9  0.004782   9.0      2.0        1.0      0.0  0.000836      1.0   0.0   \n",
      "\n",
      "   contact       day  month  duration  campaign     pdays  previous  poutcome  \\\n",
      "0      2.0  0.001316    8.0  0.003366  0.001133 -0.000044       0.0       3.0   \n",
      "1      2.0  0.001316    8.0  0.001948  0.001133 -0.000044       0.0       3.0   \n",
      "2      2.0  0.001316    8.0  0.000980  0.001133 -0.000044       0.0       3.0   \n",
      "3      2.0  0.001316    8.0  0.001187  0.001133 -0.000044       0.0       3.0   \n",
      "4      2.0  0.001316    8.0  0.002554  0.001133 -0.000044       0.0       3.0   \n",
      "5      2.0  0.001316    8.0  0.001793  0.001133 -0.000044       0.0       3.0   \n",
      "6      2.0  0.001316    8.0  0.002799  0.001133 -0.000044       0.0       3.0   \n",
      "7      2.0  0.001316    8.0  0.004901  0.001133 -0.000044       0.0       3.0   \n",
      "8      2.0  0.001316    8.0  0.000645  0.001133 -0.000044       0.0       3.0   \n",
      "9      2.0  0.001316    8.0  0.000709  0.001133 -0.000044       0.0       3.0   \n",
      "\n",
      "     y  \n",
      "0  0.0  \n",
      "1  0.0  \n",
      "2  0.0  \n",
      "3  0.0  \n",
      "4  0.0  \n",
      "5  0.0  \n",
      "6  0.0  \n",
      "7  0.0  \n",
      "8  0.0  \n",
      "9  0.0  \n"
     ]
    }
   ],
   "source": [
    "print(data.head(10))"
   ]
  },
  {
   "cell_type": "code",
   "execution_count": 15,
   "id": "b1cde932-8a5d-47ad-aeec-cb2ec3cb2a4f",
   "metadata": {},
   "outputs": [
    {
     "data": {
      "image/png": "[encoded data removed]",
      "text/plain": [
       "<Figure size 648x648 with 1 Axes>"
      ]
     },
     "metadata": {
      "needs_background": "light"
     },
     "output_type": "display_data"
    }
   ],
   "source": [
    "plt.figure(figsize=(9, 9))\n",
    "(data['balance']).plot()\n",
    "plt.show()"
   ]
  },
  {
   "cell_type": "code",
   "execution_count": 16,
   "id": "47909728-814c-46be-a51e-5f5b84dc7687",
   "metadata": {},
   "outputs": [],
   "source": [
    "X_train, X_test, y_train, y_test = train_test_split(data.drop(['y'], axis=1), data['y'], test_size=0.3, random_state=42) #day"
   ]
  },
  {
   "cell_type": "code",
   "execution_count": 17,
   "id": "72b90dbd-4041-4f75-bd10-f63da2a3bc3e",
   "metadata": {},
   "outputs": [],
   "source": [
    "def make_seq_model(activation_functions, alpha=0.3, num_classes=2):\n",
    "    model = Sequential()\n",
    "    model.add(Dropout(alpha, input_shape=(16,)))\n",
    "    \n",
    "    model.add(Dense(256, activation=activation_functions[\"hidden layer\"]))\n",
    "    model.add(Dropout(alpha))\n",
    "    \n",
    "    model.add(Dense(512, activation=activation_functions[\"hidden layer\"]))\n",
    "    if activation_functions[\"output layer\"] == \"softmax\":\n",
    "        model.add(Dense(num_classes, activation=activation_functions[\"output layer\"]))\n",
    "    else:\n",
    "        model.add(Dense(num_classes - 1, activation=activation_functions[\"output layer\"]))\n",
    "        \n",
    "    model.summary()    \n",
    "    return model"
   ]
  },
  {
   "cell_type": "code",
   "execution_count": 18,
   "id": "0e8b4d96-7a65-457e-bc21-af56764d7e53",
   "metadata": {},
   "outputs": [],
   "source": [
    "activation_functions = {\n",
    "  \"hidden layer\": \"relu\",\n",
    "  \"output layer\": \"softmax\",\n",
    "}"
   ]
  },
  {
   "cell_type": "code",
   "execution_count": 31,
   "id": "cd73c191-0c33-4dea-bbcb-896d4f03f002",
   "metadata": {},
   "outputs": [
    {
     "name": "stdout",
     "output_type": "stream",
     "text": [
      "Model: \"sequential_4\"\n",
      "_________________________________________________________________\n",
      " Layer (type)                Output Shape              Param #   \n",
      "=================================================================\n",
      " dropout_8 (Dropout)         (None, 16)                0         \n",
      "                                                                 \n",
      " dense_12 (Dense)            (None, 256)               4352      \n",
      "                                                                 \n",
      " dropout_9 (Dropout)         (None, 256)               0         \n",
      "                                                                 \n",
      " dense_13 (Dense)            (None, 512)               131584    \n",
      "                                                                 \n",
      " dense_14 (Dense)            (None, 2)                 1026      \n",
      "                                                                 \n",
      "=================================================================\n",
      "Total params: 136,962\n",
      "Trainable params: 136,962\n",
      "Non-trainable params: 0\n",
      "_________________________________________________________________\n"
     ]
    }
   ],
   "source": [
    "model = make_seq_model(activation_functions)\n",
    "opt = keras.optimizers.Adam(learning_rate=0.001)\n",
    "bce = keras.losses.BinaryCrossentropy(from_logits=False)\n",
    "scc = keras.losses.SparseCategoricalCrossentropy(from_logits=False)\n",
    "model.compile(optimizer=opt,\n",
    "              loss=scc,\n",
    "             metrics=['accuracy']) # loss"
   ]
  },
  {
   "cell_type": "code",
   "execution_count": 32,
   "id": "d10d489d-e478-4a48-b2ab-4d6e383915c7",
   "metadata": {},
   "outputs": [
    {
     "name": "stdout",
     "output_type": "stream",
     "text": [
      "Epoch 1/20\n",
      "31/31 [==============================] - 2s 17ms/step - loss: 0.4352 - accuracy: 0.8698 - val_loss: 0.3939 - val_accuracy: 0.8822\n",
      "Epoch 2/20\n",
      "31/31 [==============================] - 0s 7ms/step - loss: 0.3596 - accuracy: 0.8834 - val_loss: 0.3686 - val_accuracy: 0.8822\n",
      "Epoch 3/20\n",
      "31/31 [==============================] - 0s 7ms/step - loss: 0.3502 - accuracy: 0.8834 - val_loss: 0.3531 - val_accuracy: 0.8822\n",
      "Epoch 4/20\n",
      "31/31 [==============================] - 0s 7ms/step - loss: 0.3474 - accuracy: 0.8834 - val_loss: 0.3387 - val_accuracy: 0.8822\n",
      "Epoch 5/20\n",
      "31/31 [==============================] - 0s 8ms/step - loss: 0.3458 - accuracy: 0.8834 - val_loss: 0.3391 - val_accuracy: 0.8822\n",
      "Epoch 6/20\n",
      "31/31 [==============================] - 0s 8ms/step - loss: 0.3452 - accuracy: 0.8834 - val_loss: 0.3456 - val_accuracy: 0.8822\n",
      "Epoch 7/20\n",
      "31/31 [==============================] - 0s 8ms/step - loss: 0.3436 - accuracy: 0.8834 - val_loss: 0.3406 - val_accuracy: 0.8823\n",
      "Epoch 8/20\n",
      "31/31 [==============================] - 0s 8ms/step - loss: 0.3456 - accuracy: 0.8834 - val_loss: 0.3644 - val_accuracy: 0.8833\n",
      "Epoch 9/20\n",
      "31/31 [==============================] - 0s 8ms/step - loss: 0.3438 - accuracy: 0.8835 - val_loss: 0.3464 - val_accuracy: 0.8823\n",
      "Epoch 10/20\n",
      "31/31 [==============================] - 0s 8ms/step - loss: 0.3432 - accuracy: 0.8836 - val_loss: 0.3405 - val_accuracy: 0.8822\n",
      "Epoch 11/20\n",
      "31/31 [==============================] - 0s 8ms/step - loss: 0.3419 - accuracy: 0.8833 - val_loss: 0.3454 - val_accuracy: 0.8824\n",
      "Epoch 12/20\n",
      "31/31 [==============================] - 0s 9ms/step - loss: 0.3421 - accuracy: 0.8834 - val_loss: 0.3346 - val_accuracy: 0.8822\n",
      "Epoch 13/20\n",
      "31/31 [==============================] - 0s 8ms/step - loss: 0.3404 - accuracy: 0.8833 - val_loss: 0.3383 - val_accuracy: 0.8822\n",
      "Epoch 14/20\n",
      "31/31 [==============================] - 0s 8ms/step - loss: 0.3401 - accuracy: 0.8834 - val_loss: 0.3373 - val_accuracy: 0.8822\n",
      "Epoch 15/20\n",
      "31/31 [==============================] - 0s 8ms/step - loss: 0.3381 - accuracy: 0.8833 - val_loss: 0.3418 - val_accuracy: 0.8823\n",
      "Epoch 16/20\n",
      "31/31 [==============================] - 0s 8ms/step - loss: 0.3379 - accuracy: 0.8835 - val_loss: 0.3347 - val_accuracy: 0.8822\n",
      "Epoch 17/20\n",
      "31/31 [==============================] - 0s 8ms/step - loss: 0.3410 - accuracy: 0.8835 - val_loss: 0.3429 - val_accuracy: 0.8822\n",
      "Epoch 18/20\n",
      "31/31 [==============================] - 0s 8ms/step - loss: 0.3368 - accuracy: 0.8836 - val_loss: 0.3372 - val_accuracy: 0.8834\n",
      "Epoch 19/20\n",
      "31/31 [==============================] - 0s 9ms/step - loss: 0.3358 - accuracy: 0.8838 - val_loss: 0.3324 - val_accuracy: 0.8824\n",
      "Epoch 20/20\n",
      "31/31 [==============================] - 0s 9ms/step - loss: 0.3374 - accuracy: 0.8835 - val_loss: 0.3361 - val_accuracy: 0.8825\n"
     ]
    },
    {
     "data": {
      "text/plain": [
       "<keras.callbacks.History at 0x14a60405e40>"
      ]
     },
     "execution_count": 32,
     "metadata": {},
     "output_type": "execute_result"
    }
   ],
   "source": [
    "model.fit(X_train, y_train, batch_size=1024, epochs=20, shuffle=True, validation_data=(X_test, y_test))"
   ]
  },
  {
   "cell_type": "code",
   "execution_count": null,
   "id": "e6f98ec6-dd92-4c6e-91b1-2258b0bac1ea",
   "metadata": {},
   "outputs": [],
   "source": [
    "model.save('my_model.h5')\n",
    "score = model.evaluate(X_test, y_test, verbose=0)\n",
    "print('Test loss', score[0])\n",
    "print('Test accuracy', score[1])"
   ]
  },
  {
   "cell_type": "code",
   "execution_count": null,
   "id": "f748024d-efcb-4f2f-af52-9320e9959d0a",
   "metadata": {},
   "outputs": [],
   "source": []
  }
 ],
 "metadata": {
  "kernelspec": {
   "display_name": "Python 3 (ipykernel)",
   "language": "python",
   "name": "python3"
  },
  "language_info": {
   "codemirror_mode": {
    "name": "ipython",
    "version": 3
   },
   "file_extension": ".py",
   "mimetype": "text/x-python",
   "name": "python",
   "nbconvert_exporter": "python",
   "pygments_lexer": "ipython3",
   "version": "3.10.2"
  }
 },
 "nbformat": 4,
 "nbformat_minor": 5
}
