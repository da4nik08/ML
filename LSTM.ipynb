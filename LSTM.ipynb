{
 "cells": [
  {
   "cell_type": "code",
   "execution_count": 1,
   "id": "9ad92a50-ce35-4d35-858c-d9209f665bf4",
   "metadata": {},
   "outputs": [],
   "source": [
    "import json\n",
    "import yfinance as yf\n",
    "import numpy as np\n",
    "import pandas as pd\n",
    "import datetime\n",
    "import tensorflow as tf\n",
    "import matplotlib.pyplot as plt\n",
    "from sklearn import preprocessing\n",
    "import seaborn as sns\n",
    "from sklearn.model_selection import train_test_split\n",
    "from tensorflow.keras import layers"
   ]
  },
  {
   "cell_type": "code",
   "execution_count": 2,
   "id": "edde91a6-a49c-4bfd-8d59-c83ab62f4de6",
   "metadata": {},
   "outputs": [],
   "source": [
    "start = pd.to_datetime('2007-07-07')"
   ]
  },
  {
   "cell_type": "code",
   "execution_count": 3,
   "id": "2877fd69-7758-44ef-97a7-689acf90c1e5",
   "metadata": {},
   "outputs": [],
   "source": [
    "stock = ['AMZN']"
   ]
  },
  {
   "cell_type": "code",
   "execution_count": 4,
   "id": "7165c4c2-9a5f-4312-8a6b-d888ec17af58",
   "metadata": {},
   "outputs": [
    {
     "name": "stdout",
     "output_type": "stream",
     "text": [
      "[*********************100%***********************]  1 of 1 completed\n"
     ]
    }
   ],
   "source": [
    "data = yf.download(stock, start=start, end=datetime.date.today())"
   ]
  },
  {
   "cell_type": "code",
   "execution_count": 5,
   "id": "5936a960-3c17-4231-be00-b7863f46d7f0",
   "metadata": {},
   "outputs": [],
   "source": [
    "min_max = preprocessing.MinMaxScaler()"
   ]
  },
  {
   "cell_type": "code",
   "execution_count": 6,
   "id": "5e8b1b04-67f9-4765-902c-e9d1829ae0d4",
   "metadata": {},
   "outputs": [],
   "source": [
    "data_scaled = pd.DataFrame(min_max.fit_transform(data), columns=data.columns)"
   ]
  },
  {
   "cell_type": "code",
   "execution_count": 7,
   "id": "cef3508e-6b9a-4181-abdb-bd642a5b398d",
   "metadata": {},
   "outputs": [],
   "source": [
    "data_scaled_close = data_scaled['Close']"
   ]
  },
  {
   "cell_type": "code",
   "execution_count": 8,
   "id": "73fe08ee-372f-4644-ad71-78aab6bf8a53",
   "metadata": {},
   "outputs": [
    {
     "data": {
      "text/plain": [
       "0       0.010021\n",
       "1       0.009536\n",
       "2       0.009658\n",
       "3       0.010215\n",
       "4       0.010840\n",
       "          ...   \n",
       "3879    0.507245\n",
       "3880    0.499832\n",
       "3881    0.482951\n",
       "3882    0.468017\n",
       "3883    0.469154\n",
       "Name: Close, Length: 3884, dtype: float64"
      ]
     },
     "execution_count": 8,
     "metadata": {},
     "output_type": "execute_result"
    }
   ],
   "source": [
    "data_scaled_close"
   ]
  },
  {
   "cell_type": "code",
   "execution_count": 9,
   "id": "a2dec1fb-8cb5-4091-bc11-93098b64886f",
   "metadata": {},
   "outputs": [
    {
     "data": {
      "text/plain": [
       "(3884, 1)"
      ]
     },
     "execution_count": 9,
     "metadata": {},
     "output_type": "execute_result"
    }
   ],
   "source": [
    "np.array(data_scaled_close).reshape(-1, 1).shape"
   ]
  },
  {
   "cell_type": "code",
   "execution_count": 10,
   "id": "7bd3414d-df40-4c01-ba5b-a9d08603c76f",
   "metadata": {},
   "outputs": [],
   "source": [
    "train_num = int(data_scaled.shape[0] * 0.7)"
   ]
  },
  {
   "cell_type": "code",
   "execution_count": 11,
   "id": "c9326512-59be-4f49-a97a-66a20bdb385d",
   "metadata": {},
   "outputs": [],
   "source": [
    "test = pd.Timestamp(\"2018-07-31 00:00:00\", tz=\"America/New_York\")"
   ]
  },
  {
   "cell_type": "code",
   "execution_count": 12,
   "id": "c84b1e60-0dfb-464f-9136-26a21b0d5dd7",
   "metadata": {},
   "outputs": [
    {
     "data": {
      "text/plain": [
       "Date\n",
       "2018-08-01 00:00:00-04:00    89.858498\n",
       "2018-08-02 00:00:00-04:00    91.716499\n",
       "2018-08-03 00:00:00-04:00    91.164497\n",
       "2018-08-06 00:00:00-04:00    92.387497\n",
       "2018-08-07 00:00:00-04:00    93.124001\n",
       "                               ...    \n",
       "2022-12-01 00:00:00-05:00    95.500000\n",
       "2022-12-02 00:00:00-05:00    94.129997\n",
       "2022-12-05 00:00:00-05:00    91.010002\n",
       "2022-12-06 00:00:00-05:00    88.250000\n",
       "2022-12-07 00:00:00-05:00    88.459999\n",
       "Name: Close, Length: 1097, dtype: float64"
      ]
     },
     "execution_count": 12,
     "metadata": {},
     "output_type": "execute_result"
    }
   ],
   "source": [
    "data['Close'][data.index > test]"
   ]
  },
  {
   "cell_type": "code",
   "execution_count": 13,
   "id": "83c19db0-86b6-49e3-bf76-dd33e34e90a4",
   "metadata": {},
   "outputs": [
    {
     "data": {
      "image/png": "[encoded data removed]",
      "text/plain": [
       "<Figure size 648x648 with 1 Axes>"
      ]
     },
     "metadata": {
      "needs_background": "light"
     },
     "output_type": "display_data"
    }
   ],
   "source": [
    "plt.figure(figsize=(9, 9))\n",
    "\n",
    "plt.plot(data['Close'][data.index < test])\n",
    "plt.plot(data['Close'][data.index > test])\n",
    "plt.show()"
   ]
  },
  {
   "cell_type": "code",
   "execution_count": 14,
   "id": "afac450a-ec2d-4ce3-93b6-f1bf20400656",
   "metadata": {},
   "outputs": [],
   "source": [
    "data_train = np.array(data_scaled['Close'][data.index < test]).reshape(-1, 1)\n",
    "data_test = np.array(data_scaled['Close'][data.index > test]).reshape(-1, 1)\n",
    "#data_train = data_scaled['Close'][data.index < test]\n",
    "#data_test = data_scaled['Close'][data.index > test]"
   ]
  },
  {
   "cell_type": "code",
   "execution_count": 15,
   "id": "f134588d-e03e-4643-97cc-47b0f0b9806c",
   "metadata": {},
   "outputs": [
    {
     "data": {
      "text/plain": [
       "2786"
      ]
     },
     "execution_count": 15,
     "metadata": {},
     "output_type": "execute_result"
    }
   ],
   "source": [
    "data_train.shape[0]"
   ]
  },
  {
   "cell_type": "code",
   "execution_count": 16,
   "id": "6c1f3155-4bb9-4b58-a00b-e4e2000722ad",
   "metadata": {},
   "outputs": [
    {
     "data": {
      "text/plain": [
       "2786"
      ]
     },
     "execution_count": 16,
     "metadata": {},
     "output_type": "execute_result"
    }
   ],
   "source": [
    "len(data_train)"
   ]
  },
  {
   "cell_type": "code",
   "execution_count": 17,
   "id": "7ecfc4b9-bfa5-4890-b931-95f34f7787ee",
   "metadata": {},
   "outputs": [
    {
     "data": {
      "text/plain": [
       "(1097, 1)"
      ]
     },
     "execution_count": 17,
     "metadata": {},
     "output_type": "execute_result"
    }
   ],
   "source": [
    "data_test.shape"
   ]
  },
  {
   "cell_type": "code",
   "execution_count": 18,
   "id": "fa66538c-ebd9-47d5-a012-e5854f17bdb1",
   "metadata": {},
   "outputs": [],
   "source": [
    "def get_train(train_scaled, time_steps = 3):\n",
    "    x_train = []\n",
    "    y_train = []\n",
    "    for i in range(time_steps, train_scaled.shape[0]):\n",
    "        x_train.append(train_scaled[i - time_steps:i, 0])\n",
    "        y_train.append(train_scaled[i, 0])\n",
    "        \n",
    "    x_train, y_train = np.array(x_train), np.array(y_train)\n",
    "    x_train = np.reshape(x_train, (x_train.shape[0], x_train.shape[1], 1))\n",
    "    \n",
    "    return x_train, y_train"
   ]
  },
  {
   "cell_type": "code",
   "execution_count": 19,
   "id": "2d5ba60e-01bc-43e7-89a8-6ba98ed9e591",
   "metadata": {},
   "outputs": [],
   "source": [
    "x_train, y_train = get_train(data_train)"
   ]
  },
  {
   "cell_type": "code",
   "execution_count": 20,
   "id": "67e3108d-41d6-4ffc-802b-b2165fb40af5",
   "metadata": {},
   "outputs": [
    {
     "name": "stdout",
     "output_type": "stream",
     "text": [
      "x.shape =  (2783, 3, 1) , y.shape =  (2783,)\n"
     ]
    }
   ],
   "source": [
    "print(\"x.shape = \", x_train.shape, \", y.shape = \", y_train.shape)"
   ]
  },
  {
   "cell_type": "code",
   "execution_count": 21,
   "id": "63b7ba3a-3c46-42d7-bd21-662c67eae2e3",
   "metadata": {},
   "outputs": [],
   "source": [
    "def get_test(test_scaled, time_steps = 3):\n",
    "    x_test = []\n",
    "    y_test = []\n",
    "    for i in range(time_steps, test_scaled.shape[0]):\n",
    "        x_test.append(test_scaled[i - time_steps:i])\n",
    "        y_test.append(test_scaled[i, 0])\n",
    "        \n",
    "    x_test, y_test = np.array(x_test), np.array(y_test)\n",
    "    x_test = np.reshape(x_test, (x_test.shape[0], x_test.shape[1], 1))\n",
    "    \n",
    "    return x_test, y_test"
   ]
  },
  {
   "cell_type": "code",
   "execution_count": 22,
   "id": "a7227d84-df0f-4ef8-b21d-f5de5bfdcfc4",
   "metadata": {},
   "outputs": [],
   "source": [
    "x_test, y_test = get_test(data_test)"
   ]
  },
  {
   "cell_type": "code",
   "execution_count": 23,
   "id": "a5cca5ff-a365-4a0b-9569-ddd9711789c6",
   "metadata": {},
   "outputs": [
    {
     "name": "stdout",
     "output_type": "stream",
     "text": [
      "xt.shape =  (1094, 3, 1) , yt.shape =  (1094,)\n"
     ]
    }
   ],
   "source": [
    "print(\"xt.shape = \", x_test.shape, \", yt.shape = \", y_test.shape)"
   ]
  },
  {
   "cell_type": "code",
   "execution_count": 66,
   "id": "fa1a3d8e-42f0-4b24-9ddd-1bca2804aea3",
   "metadata": {},
   "outputs": [],
   "source": [
    "def long_short_term_memory_model(alpha=0.2):\n",
    "    model = tf.keras.Sequential()\n",
    "    model.add(layers.Conv1D(64, 5, activation='relu', strides=1, padding='causal', input_shape=[3, 1]))\n",
    "    model.add(layers.Dropout(alpha))\n",
    "    \n",
    "    model.add(layers.LSTM(128, return_sequences=True))\n",
    "    model.add(layers.Dropout(alpha))\n",
    "    \n",
    "    model.add(layers.LSTM(128, return_sequences=True))\n",
    "    model.add(layers.Dropout(alpha))\n",
    "    \n",
    "    model.add(layers.LSTM(64))\n",
    "    model.add(layers.Dense(1))\n",
    "\n",
    "    return model"
   ]
  },
  {
   "cell_type": "code",
   "execution_count": 67,
   "id": "058d0e92-3d00-499e-831e-cb5c17faa73c",
   "metadata": {},
   "outputs": [
    {
     "name": "stdout",
     "output_type": "stream",
     "text": [
      "Model: \"sequential_4\"\n",
      "_________________________________________________________________\n",
      " Layer (type)                Output Shape              Param #   \n",
      "=================================================================\n",
      " conv1d_5 (Conv1D)           (None, 3, 64)             384       \n",
      "                                                                 \n",
      " dropout_12 (Dropout)        (None, 3, 64)             0         \n",
      "                                                                 \n",
      " conv1d_6 (Conv1D)           (None, 3, 64)             20544     \n",
      "                                                                 \n",
      " dropout_13 (Dropout)        (None, 3, 64)             0         \n",
      "                                                                 \n",
      " lstm_11 (LSTM)              (None, 3, 128)            98816     \n",
      "                                                                 \n",
      " dropout_14 (Dropout)        (None, 3, 128)            0         \n",
      "                                                                 \n",
      " lstm_12 (LSTM)              (None, 3, 128)            131584    \n",
      "                                                                 \n",
      " dropout_15 (Dropout)        (None, 3, 128)            0         \n",
      "                                                                 \n",
      " lstm_13 (LSTM)              (None, 64)                49408     \n",
      "                                                                 \n",
      " dense_4 (Dense)             (None, 1)                 65        \n",
      "                                                                 \n",
      "=================================================================\n",
      "Total params: 300,801\n",
      "Trainable params: 300,801\n",
      "Non-trainable params: 0\n",
      "_________________________________________________________________\n"
     ]
    }
   ],
   "source": [
    "model = long_short_term_memory_model(alpha=0.2)\n",
    "model.summary()"
   ]
  },
  {
   "cell_type": "code",
   "execution_count": 68,
   "id": "edbb82b9-127b-457d-9c2f-ff73a7381008",
   "metadata": {},
   "outputs": [],
   "source": [
    "defined_metrics = tf.keras.metrics.MeanSquaredError() \n",
    "defined_loss = tf.keras.losses.MeanSquaredError()\n",
    "opt_adam = tf.keras.optimizers.Adam(learning_rate=0.0005) \n",
    "\n",
    "model.compile(optimizer=opt_adam, loss=defined_loss, metrics=defined_metrics)"
   ]
  },
  {
   "cell_type": "code",
   "execution_count": 69,
   "id": "ed23abd8-ad98-48f6-a823-a3d10c06b8c3",
   "metadata": {},
   "outputs": [
    {
     "name": "stdout",
     "output_type": "stream",
     "text": [
      "Epoch 1/60\n",
      "3/3 [==============================] - 5s 571ms/step - loss: 0.0197 - mean_squared_error: 0.0197 - val_loss: 0.4618 - val_mean_squared_error: 0.4618\n",
      "Epoch 2/60\n",
      "3/3 [==============================] - 0s 38ms/step - loss: 0.0169 - mean_squared_error: 0.0169 - val_loss: 0.4337 - val_mean_squared_error: 0.4337\n",
      "Epoch 3/60\n",
      "3/3 [==============================] - 0s 34ms/step - loss: 0.0141 - mean_squared_error: 0.0141 - val_loss: 0.3982 - val_mean_squared_error: 0.3982\n",
      "Epoch 4/60\n",
      "3/3 [==============================] - 0s 39ms/step - loss: 0.0116 - mean_squared_error: 0.0116 - val_loss: 0.3528 - val_mean_squared_error: 0.3528\n",
      "Epoch 5/60\n",
      "3/3 [==============================] - 0s 35ms/step - loss: 0.0100 - mean_squared_error: 0.0100 - val_loss: 0.2993 - val_mean_squared_error: 0.2993\n",
      "Epoch 6/60\n",
      "3/3 [==============================] - 0s 35ms/step - loss: 0.0100 - mean_squared_error: 0.0100 - val_loss: 0.2595 - val_mean_squared_error: 0.2595\n",
      "Epoch 7/60\n",
      "3/3 [==============================] - 0s 35ms/step - loss: 0.0103 - mean_squared_error: 0.0103 - val_loss: 0.2506 - val_mean_squared_error: 0.2506\n",
      "Epoch 8/60\n",
      "3/3 [==============================] - 0s 35ms/step - loss: 0.0094 - mean_squared_error: 0.0094 - val_loss: 0.2557 - val_mean_squared_error: 0.2557\n",
      "Epoch 9/60\n",
      "3/3 [==============================] - 0s 36ms/step - loss: 0.0084 - mean_squared_error: 0.0084 - val_loss: 0.2551 - val_mean_squared_error: 0.2551\n",
      "Epoch 10/60\n",
      "3/3 [==============================] - 0s 37ms/step - loss: 0.0076 - mean_squared_error: 0.0076 - val_loss: 0.2346 - val_mean_squared_error: 0.2346\n",
      "Epoch 11/60\n",
      "3/3 [==============================] - 0s 36ms/step - loss: 0.0066 - mean_squared_error: 0.0066 - val_loss: 0.1900 - val_mean_squared_error: 0.1900\n",
      "Epoch 12/60\n",
      "3/3 [==============================] - 0s 36ms/step - loss: 0.0051 - mean_squared_error: 0.0051 - val_loss: 0.1208 - val_mean_squared_error: 0.1208\n",
      "Epoch 13/60\n",
      "3/3 [==============================] - 0s 39ms/step - loss: 0.0033 - mean_squared_error: 0.0033 - val_loss: 0.0452 - val_mean_squared_error: 0.0452\n",
      "Epoch 14/60\n",
      "3/3 [==============================] - 0s 36ms/step - loss: 0.0016 - mean_squared_error: 0.0016 - val_loss: 0.0029 - val_mean_squared_error: 0.0029\n",
      "Epoch 15/60\n",
      "3/3 [==============================] - 0s 37ms/step - loss: 5.5936e-04 - mean_squared_error: 5.5936e-04 - val_loss: 0.0058 - val_mean_squared_error: 0.0058\n",
      "Epoch 16/60\n",
      "3/3 [==============================] - 0s 38ms/step - loss: 5.4772e-04 - mean_squared_error: 5.4772e-04 - val_loss: 0.0158 - val_mean_squared_error: 0.0158\n",
      "Epoch 17/60\n",
      "3/3 [==============================] - 0s 37ms/step - loss: 0.0010 - mean_squared_error: 0.0010 - val_loss: 0.0170 - val_mean_squared_error: 0.0170\n",
      "Epoch 18/60\n",
      "3/3 [==============================] - 0s 38ms/step - loss: 9.3784e-04 - mean_squared_error: 9.3784e-04 - val_loss: 0.0110 - val_mean_squared_error: 0.0110\n",
      "Epoch 19/60\n",
      "3/3 [==============================] - 0s 37ms/step - loss: 5.5707e-04 - mean_squared_error: 5.5707e-04 - val_loss: 0.0017 - val_mean_squared_error: 0.0017\n",
      "Epoch 20/60\n",
      "3/3 [==============================] - 0s 36ms/step - loss: 3.0666e-04 - mean_squared_error: 3.0666e-04 - val_loss: 0.0016 - val_mean_squared_error: 0.0016\n",
      "Epoch 21/60\n",
      "3/3 [==============================] - 0s 38ms/step - loss: 3.4448e-04 - mean_squared_error: 3.4448e-04 - val_loss: 0.0058 - val_mean_squared_error: 0.0058\n",
      "Epoch 22/60\n",
      "3/3 [==============================] - 0s 37ms/step - loss: 3.9307e-04 - mean_squared_error: 3.9307e-04 - val_loss: 0.0077 - val_mean_squared_error: 0.0077\n",
      "Epoch 23/60\n",
      "3/3 [==============================] - 0s 38ms/step - loss: 3.9312e-04 - mean_squared_error: 3.9312e-04 - val_loss: 0.0059 - val_mean_squared_error: 0.0059\n",
      "Epoch 24/60\n",
      "3/3 [==============================] - 0s 36ms/step - loss: 3.0378e-04 - mean_squared_error: 3.0378e-04 - val_loss: 0.0033 - val_mean_squared_error: 0.0033\n",
      "Epoch 25/60\n",
      "3/3 [==============================] - 0s 38ms/step - loss: 2.1867e-04 - mean_squared_error: 2.1867e-04 - val_loss: 0.0013 - val_mean_squared_error: 0.0013\n",
      "Epoch 26/60\n",
      "3/3 [==============================] - 0s 39ms/step - loss: 2.1651e-04 - mean_squared_error: 2.1651e-04 - val_loss: 8.1709e-04 - val_mean_squared_error: 8.1709e-04\n",
      "Epoch 27/60\n",
      "3/3 [==============================] - 0s 38ms/step - loss: 2.2853e-04 - mean_squared_error: 2.2853e-04 - val_loss: 9.2316e-04 - val_mean_squared_error: 9.2316e-04\n",
      "Epoch 28/60\n",
      "3/3 [==============================] - 0s 36ms/step - loss: 2.1768e-04 - mean_squared_error: 2.1768e-04 - val_loss: 0.0014 - val_mean_squared_error: 0.0014\n",
      "Epoch 29/60\n",
      "3/3 [==============================] - 0s 37ms/step - loss: 1.8878e-04 - mean_squared_error: 1.8878e-04 - val_loss: 0.0025 - val_mean_squared_error: 0.0025\n",
      "Epoch 30/60\n",
      "3/3 [==============================] - 0s 38ms/step - loss: 1.9455e-04 - mean_squared_error: 1.9455e-04 - val_loss: 0.0042 - val_mean_squared_error: 0.0042\n",
      "Epoch 31/60\n",
      "3/3 [==============================] - 0s 38ms/step - loss: 2.0686e-04 - mean_squared_error: 2.0686e-04 - val_loss: 0.0051 - val_mean_squared_error: 0.0051\n",
      "Epoch 32/60\n",
      "3/3 [==============================] - 0s 38ms/step - loss: 2.0418e-04 - mean_squared_error: 2.0418e-04 - val_loss: 0.0042 - val_mean_squared_error: 0.0042\n",
      "Epoch 33/60\n",
      "3/3 [==============================] - 0s 37ms/step - loss: 1.9379e-04 - mean_squared_error: 1.9379e-04 - val_loss: 0.0035 - val_mean_squared_error: 0.0035\n",
      "Epoch 34/60\n",
      "3/3 [==============================] - 0s 39ms/step - loss: 1.8106e-04 - mean_squared_error: 1.8106e-04 - val_loss: 0.0032 - val_mean_squared_error: 0.0032\n",
      "Epoch 35/60\n",
      "3/3 [==============================] - 0s 36ms/step - loss: 1.8935e-04 - mean_squared_error: 1.8935e-04 - val_loss: 0.0026 - val_mean_squared_error: 0.0026\n",
      "Epoch 36/60\n",
      "3/3 [==============================] - 0s 39ms/step - loss: 1.9061e-04 - mean_squared_error: 1.9061e-04 - val_loss: 0.0030 - val_mean_squared_error: 0.0030\n",
      "Epoch 37/60\n",
      "3/3 [==============================] - 0s 38ms/step - loss: 1.7655e-04 - mean_squared_error: 1.7655e-04 - val_loss: 0.0043 - val_mean_squared_error: 0.0043\n",
      "Epoch 38/60\n",
      "3/3 [==============================] - 0s 38ms/step - loss: 1.8542e-04 - mean_squared_error: 1.8542e-04 - val_loss: 0.0041 - val_mean_squared_error: 0.0041\n",
      "Epoch 39/60\n",
      "3/3 [==============================] - 0s 37ms/step - loss: 1.8378e-04 - mean_squared_error: 1.8378e-04 - val_loss: 0.0045 - val_mean_squared_error: 0.0045\n",
      "Epoch 40/60\n",
      "3/3 [==============================] - 0s 38ms/step - loss: 1.7314e-04 - mean_squared_error: 1.7314e-04 - val_loss: 0.0047 - val_mean_squared_error: 0.0047\n",
      "Epoch 41/60\n",
      "3/3 [==============================] - 0s 38ms/step - loss: 1.7705e-04 - mean_squared_error: 1.7705e-04 - val_loss: 0.0037 - val_mean_squared_error: 0.0037\n",
      "Epoch 42/60\n",
      "3/3 [==============================] - 0s 39ms/step - loss: 1.6216e-04 - mean_squared_error: 1.6216e-04 - val_loss: 0.0038 - val_mean_squared_error: 0.0038\n",
      "Epoch 43/60\n",
      "3/3 [==============================] - 0s 37ms/step - loss: 1.8128e-04 - mean_squared_error: 1.8128e-04 - val_loss: 0.0045 - val_mean_squared_error: 0.0045\n",
      "Epoch 44/60\n",
      "3/3 [==============================] - 0s 38ms/step - loss: 1.8156e-04 - mean_squared_error: 1.8156e-04 - val_loss: 0.0043 - val_mean_squared_error: 0.0043\n",
      "Epoch 45/60\n",
      "3/3 [==============================] - 0s 38ms/step - loss: 1.6381e-04 - mean_squared_error: 1.6381e-04 - val_loss: 0.0041 - val_mean_squared_error: 0.0041\n",
      "Epoch 46/60\n",
      "3/3 [==============================] - 0s 43ms/step - loss: 1.5372e-04 - mean_squared_error: 1.5372e-04 - val_loss: 0.0045 - val_mean_squared_error: 0.0045\n",
      "Epoch 47/60\n",
      "3/3 [==============================] - 0s 39ms/step - loss: 1.7205e-04 - mean_squared_error: 1.7205e-04 - val_loss: 0.0051 - val_mean_squared_error: 0.0051\n",
      "Epoch 48/60\n",
      "3/3 [==============================] - 0s 38ms/step - loss: 1.6687e-04 - mean_squared_error: 1.6687e-04 - val_loss: 0.0047 - val_mean_squared_error: 0.0047\n",
      "Epoch 49/60\n",
      "3/3 [==============================] - 0s 38ms/step - loss: 1.6536e-04 - mean_squared_error: 1.6536e-04 - val_loss: 0.0045 - val_mean_squared_error: 0.0045\n",
      "Epoch 50/60\n",
      "3/3 [==============================] - 0s 37ms/step - loss: 1.8118e-04 - mean_squared_error: 1.8118e-04 - val_loss: 0.0059 - val_mean_squared_error: 0.0059\n",
      "Epoch 51/60\n",
      "3/3 [==============================] - 0s 44ms/step - loss: 1.8956e-04 - mean_squared_error: 1.8956e-04 - val_loss: 0.0051 - val_mean_squared_error: 0.0051\n",
      "Epoch 52/60\n",
      "3/3 [==============================] - 0s 38ms/step - loss: 1.7236e-04 - mean_squared_error: 1.7236e-04 - val_loss: 0.0047 - val_mean_squared_error: 0.0047\n",
      "Epoch 53/60\n",
      "3/3 [==============================] - 0s 39ms/step - loss: 1.7502e-04 - mean_squared_error: 1.7502e-04 - val_loss: 0.0048 - val_mean_squared_error: 0.0048\n",
      "Epoch 54/60\n",
      "3/3 [==============================] - 0s 40ms/step - loss: 1.7562e-04 - mean_squared_error: 1.7562e-04 - val_loss: 0.0046 - val_mean_squared_error: 0.0046\n",
      "Epoch 55/60\n",
      "3/3 [==============================] - 0s 42ms/step - loss: 1.7963e-04 - mean_squared_error: 1.7963e-04 - val_loss: 0.0045 - val_mean_squared_error: 0.0045\n",
      "Epoch 56/60\n",
      "3/3 [==============================] - 0s 39ms/step - loss: 1.6912e-04 - mean_squared_error: 1.6912e-04 - val_loss: 0.0055 - val_mean_squared_error: 0.0055\n",
      "Epoch 57/60\n",
      "3/3 [==============================] - 0s 38ms/step - loss: 1.5645e-04 - mean_squared_error: 1.5645e-04 - val_loss: 0.0058 - val_mean_squared_error: 0.0058\n",
      "Epoch 58/60\n",
      "3/3 [==============================] - 0s 38ms/step - loss: 1.7913e-04 - mean_squared_error: 1.7913e-04 - val_loss: 0.0053 - val_mean_squared_error: 0.0053\n",
      "Epoch 59/60\n",
      "3/3 [==============================] - 0s 38ms/step - loss: 1.6664e-04 - mean_squared_error: 1.6664e-04 - val_loss: 0.0051 - val_mean_squared_error: 0.0051\n",
      "Epoch 60/60\n",
      "3/3 [==============================] - 0s 38ms/step - loss: 1.6977e-04 - mean_squared_error: 1.6977e-04 - val_loss: 0.0042 - val_mean_squared_error: 0.0042\n"
     ]
    }
   ],
   "source": [
    "history = model.fit(x_train, y_train, epochs=60, batch_size=1024, validation_data=(x_test, y_test))"
   ]
  },
  {
   "cell_type": "code",
   "execution_count": 70,
   "id": "953807c0-9d65-4035-b536-2200abe1ac36",
   "metadata": {},
   "outputs": [
    {
     "name": "stdout",
     "output_type": "stream",
     "text": [
      "35/35 [==============================] - 2s 14ms/step\n"
     ]
    }
   ],
   "source": [
    "output = model.predict(x_test)"
   ]
  },
  {
   "cell_type": "code",
   "execution_count": 71,
   "id": "78066e00-c4e7-4bf7-8862-4a27d3f3d9c5",
   "metadata": {},
   "outputs": [
    {
     "data": {
      "image/png": "[encoded data removed]",
      "text/plain": [
       "<Figure size 864x864 with 1 Axes>"
      ]
     },
     "metadata": {
      "needs_background": "light"
     },
     "output_type": "display_data"
    }
   ],
   "source": [
    "plt.figure(figsize=(12, 12))\n",
    "\n",
    "plt.plot(y_test[:20])\n",
    "plt.plot(output[:20])\n",
    "plt.show()"
   ]
  },
  {
   "cell_type": "code",
   "execution_count": 53,
   "id": "d610fe84-335b-45fd-a2b0-b211aabaf1c0",
   "metadata": {},
   "outputs": [
    {
     "name": "stdout",
     "output_type": "stream",
     "text": [
      "1/1 [==============================] - 0s 180ms/step\n",
      "1/1 [==============================] - 0s 28ms/step\n",
      "1/1 [==============================] - 0s 27ms/step\n",
      "1/1 [==============================] - 0s 28ms/step\n",
      "1/1 [==============================] - 0s 26ms/step\n",
      "1/1 [==============================] - 0s 26ms/step\n",
      "1/1 [==============================] - 0s 25ms/step\n",
      "1/1 [==============================] - 0s 27ms/step\n",
      "1/1 [==============================] - 0s 26ms/step\n",
      "1/1 [==============================] - 0s 28ms/step\n",
      "1/1 [==============================] - 0s 27ms/step\n",
      "1/1 [==============================] - 0s 28ms/step\n",
      "1/1 [==============================] - 0s 28ms/step\n",
      "1/1 [==============================] - 0s 29ms/step\n",
      "1/1 [==============================] - 0s 27ms/step\n",
      "1/1 [==============================] - 0s 27ms/step\n",
      "1/1 [==============================] - 0s 27ms/step\n",
      "1/1 [==============================] - 0s 25ms/step\n",
      "1/1 [==============================] - 0s 25ms/step\n",
      "1/1 [==============================] - 0s 26ms/step\n",
      "1/1 [==============================] - 0s 26ms/step\n",
      "1/1 [==============================] - 0s 27ms/step\n",
      "1/1 [==============================] - 0s 27ms/step\n",
      "1/1 [==============================] - 0s 25ms/step\n",
      "1/1 [==============================] - 0s 28ms/step\n",
      "1/1 [==============================] - 0s 28ms/step\n",
      "1/1 [==============================] - 0s 27ms/step\n",
      "1/1 [==============================] - 0s 28ms/step\n",
      "1/1 [==============================] - 0s 28ms/step\n",
      "1/1 [==============================] - 0s 26ms/step\n",
      "1/1 [==============================] - 0s 25ms/step\n",
      "1/1 [==============================] - 0s 28ms/step\n",
      "1/1 [==============================] - 0s 28ms/step\n",
      "1/1 [==============================] - 0s 29ms/step\n",
      "1/1 [==============================] - 0s 28ms/step\n",
      "1/1 [==============================] - 0s 28ms/step\n",
      "1/1 [==============================] - 0s 29ms/step\n",
      "1/1 [==============================] - 0s 28ms/step\n",
      "1/1 [==============================] - 0s 28ms/step\n",
      "1/1 [==============================] - 0s 28ms/step\n",
      "1/1 [==============================] - 0s 26ms/step\n",
      "1/1 [==============================] - 0s 28ms/step\n",
      "1/1 [==============================] - 0s 26ms/step\n",
      "1/1 [==============================] - 0s 26ms/step\n",
      "1/1 [==============================] - 0s 26ms/step\n",
      "1/1 [==============================] - 0s 26ms/step\n",
      "1/1 [==============================] - 0s 28ms/step\n",
      "1/1 [==============================] - 0s 27ms/step\n",
      "1/1 [==============================] - 0s 28ms/step\n",
      "1/1 [==============================] - 0s 27ms/step\n",
      "1/1 [==============================] - 0s 27ms/step\n",
      "1/1 [==============================] - 0s 26ms/step\n",
      "1/1 [==============================] - 0s 27ms/step\n",
      "1/1 [==============================] - 0s 27ms/step\n",
      "1/1 [==============================] - 0s 27ms/step\n",
      "1/1 [==============================] - 0s 27ms/step\n",
      "1/1 [==============================] - 0s 29ms/step\n",
      "1/1 [==============================] - 0s 28ms/step\n",
      "1/1 [==============================] - 0s 25ms/step\n",
      "1/1 [==============================] - 0s 27ms/step\n",
      "1/1 [==============================] - 0s 27ms/step\n",
      "1/1 [==============================] - 0s 27ms/step\n",
      "1/1 [==============================] - 0s 27ms/step\n",
      "1/1 [==============================] - 0s 26ms/step\n",
      "1/1 [==============================] - 0s 27ms/step\n",
      "1/1 [==============================] - 0s 28ms/step\n",
      "1/1 [==============================] - 0s 27ms/step\n",
      "1/1 [==============================] - 0s 27ms/step\n",
      "1/1 [==============================] - 0s 29ms/step\n",
      "1/1 [==============================] - 0s 28ms/step\n",
      "1/1 [==============================] - 0s 29ms/step\n",
      "1/1 [==============================] - 0s 25ms/step\n",
      "1/1 [==============================] - 0s 26ms/step\n",
      "1/1 [==============================] - 0s 29ms/step\n",
      "1/1 [==============================] - 0s 28ms/step\n",
      "1/1 [==============================] - 0s 28ms/step\n",
      "1/1 [==============================] - 0s 26ms/step\n",
      "1/1 [==============================] - 0s 27ms/step\n",
      "1/1 [==============================] - 0s 28ms/step\n",
      "1/1 [==============================] - 0s 30ms/step\n",
      "1/1 [==============================] - 0s 29ms/step\n",
      "1/1 [==============================] - 0s 27ms/step\n",
      "1/1 [==============================] - 0s 27ms/step\n",
      "1/1 [==============================] - 0s 27ms/step\n",
      "1/1 [==============================] - 0s 29ms/step\n",
      "1/1 [==============================] - 0s 27ms/step\n",
      "1/1 [==============================] - 0s 27ms/step\n",
      "1/1 [==============================] - 0s 27ms/step\n",
      "1/1 [==============================] - 0s 26ms/step\n",
      "1/1 [==============================] - 0s 26ms/step\n",
      "1/1 [==============================] - 0s 27ms/step\n",
      "1/1 [==============================] - 0s 26ms/step\n",
      "1/1 [==============================] - 0s 25ms/step\n",
      "1/1 [==============================] - 0s 27ms/step\n",
      "1/1 [==============================] - 0s 28ms/step\n",
      "1/1 [==============================] - 0s 28ms/step\n",
      "1/1 [==============================] - 0s 28ms/step\n",
      "1/1 [==============================] - 0s 26ms/step\n",
      "1/1 [==============================] - 0s 27ms/step\n",
      "1/1 [==============================] - 0s 27ms/step\n"
     ]
    }
   ],
   "source": [
    "result = y_test[:3]\n",
    "for i in range(100):\n",
    "    temp = model.predict(result[result.shape[0] - 3 : ].reshape([1, 3, 1]))\n",
    "    result = np.append(result, temp)"
   ]
  },
  {
   "cell_type": "code",
   "execution_count": 54,
   "id": "1550ffe2-6e31-437e-b3c0-992ed82db28d",
   "metadata": {},
   "outputs": [
    {
     "data": {
      "text/plain": [
       "(103,)"
      ]
     },
     "execution_count": 54,
     "metadata": {},
     "output_type": "execute_result"
    }
   ],
   "source": [
    "result.shape"
   ]
  },
  {
   "cell_type": "code",
   "execution_count": 57,
   "id": "2f8c6712-ac3e-4b9e-9f5e-721640776d75",
   "metadata": {},
   "outputs": [
    {
     "data": {
      "image/png": "[encoded data removed]",
      "text/plain": [
       "<Figure size 864x864 with 1 Axes>"
      ]
     },
     "metadata": {
      "needs_background": "light"
     },
     "output_type": "display_data"
    }
   ],
   "source": [
    "plt.figure(figsize=(12, 12))\n",
    "\n",
    "plt.plot(y_test[:20])\n",
    "plt.plot(result[:20])\n",
    "plt.show()"
   ]
  },
  {
   "cell_type": "code",
   "execution_count": null,
   "id": "d38eacc5-795f-44af-bb41-730f3d8a32d7",
   "metadata": {},
   "outputs": [],
   "source": []
  }
 ],
 "metadata": {
  "kernelspec": {
   "display_name": "Python 3 (ipykernel)",
   "language": "python",
   "name": "python3"
  },
  "language_info": {
   "codemirror_mode": {
    "name": "ipython",
    "version": 3
   },
   "file_extension": ".py",
   "mimetype": "text/x-python",
   "name": "python",
   "nbconvert_exporter": "python",
   "pygments_lexer": "ipython3",
   "version": "3.10.2"
  }
 },
 "nbformat": 4,
 "nbformat_minor": 5
}
