{
 "cells": [
  {
   "cell_type": "code",
   "execution_count": null,
   "id": "38a8ae89",
   "metadata": {},
   "outputs": [],
   "source": [
    "import torch\n",
    "from torch import nn\n",
    "import torchvision\n",
    "import torchvision.transforms as transforms\n",
    "from torch.utils.tensorboard import SummaryWriter\n",
    "import torch.nn.functional as F\n",
    "from datetime import datetime\n",
    "import numpy as np\n",
    "import time\n",
    "from torchsummary import summary"
   ]
  },
  {
   "cell_type": "code",
   "execution_count": null,
   "id": "618fc275",
   "metadata": {},
   "outputs": [],
   "source": [
    "%load_ext tensorboard"
   ]
  },
  {
   "cell_type": "code",
   "execution_count": null,
   "id": "52f21a15",
   "metadata": {},
   "outputs": [],
   "source": [
    "def train_step(model, loss_fn, opt, loader, calc_accuracy):\n",
    "    loss_per_batches = 0\n",
    "    correct = 0\n",
    "    elapsed = 0\n",
    "    start_epoch2 = time.time()\n",
    "    for i, data in enumerate(loader):\n",
    "        start_epoch = time.time()\n",
    "        \n",
    "        features, labels = data\n",
    "        \n",
    "        opt.zero_grad()\n",
    "        \n",
    "        y_pred = model(features)\n",
    "        \n",
    "        loss = loss_fn(y_pred, labels)\n",
    "        loss.backward()\n",
    "        \n",
    "        opt.step()\n",
    "        \n",
    "        loss_per_batches += loss\n",
    "        correct += calc_accuracy(y_pred.numpy(force=True), labels.numpy()) / len(y_pred)\n",
    "        \n",
    "        end_epoch = time.time()\n",
    "        elapsed += (end_epoch - start_epoch)\n",
    "\n",
    "        \n",
    "    print(elapsed)\n",
    "    print(time.time() - start_epoch2)\n",
    "    return loss_per_batches/(i+1), correct/(i+1)"
   ]
  },
  {
   "cell_type": "code",
   "execution_count": null,
   "id": "0c9f43d6",
   "metadata": {},
   "outputs": [],
   "source": [
    "def train(model, loss_fn, opt, train_loader, val_loader, save_treshold=10, epochs=10, model_name='model_name'):\n",
    "    \n",
    "    def calc_accuracy(y, labels):\n",
    "        #print(np.argmax(y, axis=-1))\n",
    "        #print(labels)\n",
    "        #print(np.argmax(y, axis=-1) == labels)\n",
    "        return (np.argmax(y, axis=-1) == labels).sum()\n",
    "    \n",
    "    timestamp = datetime.now().strftime('%Y%m%d_%H%M%S')\n",
    "    writer = SummaryWriter('runs/' + model_name + '_{}'.format(timestamp))\n",
    "    scheduler = torch.optim.lr_scheduler.ReduceLROnPlateau(opt, 'min')\n",
    "    \n",
    "    for epoch in range(epochs):\n",
    "        start_epoch = time.time()\n",
    "        print('EPOCH {}:'.format(epoch + 1))\n",
    "        \n",
    "        model.train()\n",
    "        avg_loss, avg_acc = train_step(model, loss_fn, opt, train_loader, calc_accuracy)\n",
    "        model.eval()\n",
    "        \n",
    "        vloss = 0\n",
    "        correct = 0\n",
    "        with torch.inference_mode():\n",
    "            for i, vdata in enumerate(val_loader):\n",
    "                vfeatures, vlabels = vdata\n",
    "                vy_pred = model(vfeatures)\n",
    "                vloss += loss_fn(vy_pred, vlabels)\n",
    "\n",
    "                correct += calc_accuracy(vy_pred.numpy(), vlabels.numpy()) / len(vy_pred)\n",
    "        avg_vloss = vloss / (i + 1)\n",
    "        avg_vacc = correct / (i + 1)\n",
    "        \n",
    "        scheduler.step(avg_vloss)\n",
    "        \n",
    "        print('LOSS train {} valid {}'.format(avg_loss, avg_vloss))\n",
    "        print('ACC train {} valid {}'.format(avg_acc, avg_vacc))\n",
    "        \n",
    "        writer.add_scalars('Training vs. Validation Loss',\n",
    "                    { 'Training' : avg_loss, 'Validation' : avg_vloss },\n",
    "                    epoch + 1)\n",
    "        \n",
    "        writer.add_scalars('Training vs. Validation Acc',\n",
    "                    { 'Training' : avg_acc, 'Validation' : avg_vacc },\n",
    "                    epoch + 1)\n",
    "        \n",
    "        if (epoch + 1) % save_treshold == 0:\n",
    "            model_path = model_name +'_{}_{}'.format(timestamp, epoch)\n",
    "            torch.save(model.state_dict(), model_path)\n",
    "        end_epoch = time.time()\n",
    "        elapsed = end_epoch - start_epoch\n",
    "        print(\"Time per epoch {}s\".format(elapsed))"
   ]
  },
  {
   "cell_type": "code",
   "execution_count": null,
   "id": "a67f69cf",
   "metadata": {},
   "outputs": [],
   "source": []
  },
  {
   "cell_type": "code",
   "execution_count": null,
   "id": "1f515f47",
   "metadata": {},
   "outputs": [],
   "source": [
    "transform = transforms.Compose(\n",
    "    [transforms.ToTensor(),\n",
    "    transforms.Normalize((0.5,), (0.5,))])\n",
    "\n",
    "training_set = torchvision.datasets.FashionMNIST('./data', train=True, transform=transform, download=True)\n",
    "validation_set = torchvision.datasets.FashionMNIST('./data', train=False, transform=transform, download=True)\n",
    "\n",
    "training_loader = torch.utils.data.DataLoader(training_set, batch_size=4, shuffle=True, num_workers=4)\n",
    "validation_loader = torch.utils.data.DataLoader(validation_set, batch_size=20000, shuffle=False, num_workers=4)\n",
    "\n",
    "classes = ('T-shirt/top', 'Trouser', 'Pullover', 'Dress', 'Coat',\n",
    "        'Sandal', 'Shirt', 'Sneaker', 'Bag', 'Ankle Boot')"
   ]
  },
  {
   "cell_type": "code",
   "execution_count": null,
   "id": "c9a17180",
   "metadata": {},
   "outputs": [],
   "source": [
    "class GarmentClassifier(nn.Module):\n",
    "    def __init__(self):\n",
    "        super(GarmentClassifier, self).__init__()\n",
    "        self.conv1 = nn.Conv2d(1, 6, 5)\n",
    "        self.pool = nn.MaxPool2d(2, 2)\n",
    "        self.conv2 = nn.Conv2d(6, 16, 5)\n",
    "        self.fc1 = nn.Linear(16 * 4 * 4, 120)\n",
    "        self.fc2 = nn.Linear(120, 84)\n",
    "        self.fc3 = nn.Linear(84, 10)\n",
    "        self.smax = nn.Softmax(dim=1)\n",
    "\n",
    "    def forward(self, x):\n",
    "        x = self.pool(F.relu(self.conv1(x)))\n",
    "        x = self.pool(F.relu(self.conv2(x)))\n",
    "        x = x.view(-1, 16 * 4 * 4)\n",
    "        x = F.relu(self.fc1(x))\n",
    "        x = F.relu(self.fc2(x))\n",
    "        x = self.fc3(x)\n",
    "        x = self.smax(x)\n",
    "        return x\n",
    "\n",
    "\n",
    "model = GarmentClassifier()"
   ]
  },
  {
   "cell_type": "code",
   "execution_count": null,
   "id": "3737d5e6",
   "metadata": {},
   "outputs": [],
   "source": [
    "loss_fn = torch.nn.CrossEntropyLoss()\n",
    "optimizer = torch.optim.Adam(model.parameters(), lr=0.001)"
   ]
  },
  {
   "cell_type": "code",
   "execution_count": null,
   "id": "e07a0180",
   "metadata": {},
   "outputs": [],
   "source": [
    "train(model, loss_fn, optimizer, training_loader, validation_loader, epochs=1000, model_name=model.__class__.__name__)"
   ]
  },
  {
   "cell_type": "code",
   "execution_count": null,
   "id": "e2e9ed42",
   "metadata": {},
   "outputs": [],
   "source": [
    "%tensorboard --logdir runs/GarmentClassifier_20230417_160545"
   ]
  },
  {
   "cell_type": "code",
   "execution_count": null,
   "id": "f3c261f8",
   "metadata": {},
   "outputs": [],
   "source": [
    "summary(model, input_size=(1,28,28))"
   ]
  },
  {
   "cell_type": "code",
   "execution_count": null,
   "id": "0bb174c1",
   "metadata": {},
   "outputs": [],
   "source": [
    "for i, data in enumerate(training_loader):\n",
    "    print(i, data)"
   ]
  }
 ],
 "metadata": {
  "kernelspec": {
   "display_name": "Python 3 (ipykernel)",
   "language": "python",
   "name": "python3"
  },
  "language_info": {
   "codemirror_mode": {
    "name": "ipython",
    "version": 3
   },
   "file_extension": ".py",
   "mimetype": "text/x-python",
   "name": "python",
   "nbconvert_exporter": "python",
   "pygments_lexer": "ipython3",
   "version": "3.8.9"
  }
 },
 "nbformat": 4,
 "nbformat_minor": 5
}
