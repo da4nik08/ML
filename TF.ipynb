{
 "cells": [
  {
   "cell_type": "code",
   "execution_count": 1,
   "id": "7c12c730-81da-4160-9247-853745e142c7",
   "metadata": {},
   "outputs": [
    {
     "name": "stdout",
     "output_type": "stream",
     "text": [
      "WARNING:tensorflow:From C:\\Program Files\\Python310\\lib\\site-packages\\tensorflow\\python\\compat\\v2_compat.py:107: disable_resource_variables (from tensorflow.python.ops.variable_scope) is deprecated and will be removed in a future version.\n",
      "Instructions for updating:\n",
      "non-resource variables are not supported in the long term\n"
     ]
    }
   ],
   "source": [
    "import tensorflow.compat.v1 as tf\n",
    "tf.disable_v2_behavior()\n",
    "\n",
    "import numpy as np"
   ]
  },
  {
   "cell_type": "code",
   "execution_count": 2,
   "id": "18fa2638-fa86-4b4c-bf42-33639121a349",
   "metadata": {},
   "outputs": [
    {
     "name": "stdout",
     "output_type": "stream",
     "text": [
      "15.0\n"
     ]
    }
   ],
   "source": [
    "x = tf.constant(15, dtype='float32')\n",
    "sess = tf.Session()\n",
    "print(sess.run(x))"
   ]
  },
  {
   "cell_type": "code",
   "execution_count": 3,
   "id": "ae301a96-d986-42c2-9739-9786a16c4153",
   "metadata": {},
   "outputs": [
    {
     "name": "stdout",
     "output_type": "stream",
     "text": [
      "30.0\n"
     ]
    }
   ],
   "source": [
    "x = tf.constant(15, dtype='float32')\n",
    "y = tf.Variable(x + 15)\n",
    "model = tf.global_variables_initializer()\n",
    "with tf.Session() as sess:\n",
    "    sess.run(model)\n",
    "    print(sess.run(y))"
   ]
  },
  {
   "cell_type": "code",
   "execution_count": 4,
   "id": "dacdb9aa-02e8-4a44-abfc-16e559f0e60f",
   "metadata": {},
   "outputs": [
    {
     "name": "stdout",
     "output_type": "stream",
     "text": [
      "[ 211.  511. 1011. 1711. 2611.]\n"
     ]
    }
   ],
   "source": [
    "x = tf.placeholder(\"float\", None)\n",
    "y = x * x + 111\n",
    "with tf.Session() as sess:\n",
    "    placeX = sess.run(y, feed_dict={x: [10, 20, 30, 40, 50]})\n",
    "    print(placeX)"
   ]
  },
  {
   "cell_type": "code",
   "execution_count": 5,
   "id": "c8fbbeb1-eaaf-405f-9590-2a44d36dc053",
   "metadata": {},
   "outputs": [
    {
     "name": "stdout",
     "output_type": "stream",
     "text": [
      "[1758 2790    3]\n"
     ]
    }
   ],
   "source": [
    "image = tf.image.decode_jpeg(tf.read_file(\"apple.jpg\"), channels=3)\n",
    "sess = tf.InteractiveSession()\n",
    "print(sess.run(tf.shape(image)))"
   ]
  },
  {
   "cell_type": "code",
   "execution_count": 6,
   "id": "c6d63139-1989-4587-9c88-2585e18fcc2d",
   "metadata": {},
   "outputs": [
    {
     "name": "stdout",
     "output_type": "stream",
     "text": [
      "[[126 124 123 122 123 124 122 121 121 121]\n",
      " [125 124 123 122 123 124 122 121 122 121]\n",
      " [124 124 123 123 122 122 121 121 121 121]\n",
      " [123 124 124 124 120 117 120 120 120 120]\n",
      " [122 124 125 123 118 114 118 118 119 119]\n",
      " [121 124 126 123 117 112 117 117 118 118]\n",
      " [120 118 118 118 118 118 121 118 116 116]\n",
      " [119 118 118 118 118 119 122 119 116 116]\n",
      " [119 118 118 118 119 120 124 121 117 117]\n",
      " [119 119 119 120 121 121 125 122 119 118]]\n"
     ]
    }
   ],
   "source": [
    "print(sess.run(image[10:20, 10:20, 1]))"
   ]
  },
  {
   "cell_type": "code",
   "execution_count": 7,
   "id": "b2596c31-c9eb-4b27-91c8-2fa8d721e6e9",
   "metadata": {},
   "outputs": [
    {
     "name": "stdout",
     "output_type": "stream",
     "text": [
      "[[0. 0.]\n",
      " [0. 0.]\n",
      " [0. 0.]]\n"
     ]
    }
   ],
   "source": [
    "sess = tf.Session()\n",
    "Zero = tf.zeros([3, 2])\n",
    "print(sess.run(Zero))"
   ]
  },
  {
   "cell_type": "code",
   "execution_count": 8,
   "id": "5a96656b-b5d2-4486-a69c-78060c220f8c",
   "metadata": {},
   "outputs": [
    {
     "name": "stdout",
     "output_type": "stream",
     "text": [
      "[[1. 1. 1. 1.]\n",
      " [1. 1. 1. 1.]\n",
      " [1. 1. 1. 1.]]\n"
     ]
    }
   ],
   "source": [
    "One = tf.ones([3, 4])\n",
    "print(sess.run(One))"
   ]
  },
  {
   "cell_type": "code",
   "execution_count": 9,
   "id": "b74a2fa8-4c95-47ed-9927-41e2872e13fe",
   "metadata": {},
   "outputs": [
    {
     "name": "stdout",
     "output_type": "stream",
     "text": [
      "[[2 2 2]\n",
      " [2 2 2]]\n"
     ]
    }
   ],
   "source": [
    "C = tf.fill([2, 3], 2)\n",
    "print(sess.run(C))"
   ]
  },
  {
   "cell_type": "code",
   "execution_count": 10,
   "id": "f9403a1b-12fa-4ec5-a496-ae7099b63a8e",
   "metadata": {},
   "outputs": [
    {
     "name": "stdout",
     "output_type": "stream",
     "text": [
      "[[4 0 0 0]\n",
      " [0 3 0 0]\n",
      " [0 0 2 0]\n",
      " [0 0 0 1]]\n"
     ]
    }
   ],
   "source": [
    "Diag = tf.diag([4, 3, 2, 1])\n",
    "print(sess.run(Diag))"
   ]
  },
  {
   "cell_type": "code",
   "execution_count": 11,
   "id": "26d71a4f-3450-432a-9ad7-9505c84d51d2",
   "metadata": {},
   "outputs": [
    {
     "name": "stdout",
     "output_type": "stream",
     "text": [
      "[1 4 6 8]\n"
     ]
    }
   ],
   "source": [
    "Const = tf.constant([1, 4, 6, 8])\n",
    "print(sess.run(Const))"
   ]
  },
  {
   "cell_type": "code",
   "execution_count": 12,
   "id": "bc7c5c4a-16b0-4d6d-99a9-d9876633d988",
   "metadata": {},
   "outputs": [
    {
     "name": "stdout",
     "output_type": "stream",
     "text": [
      "[ 3  6  9 12 15 18 21]\n"
     ]
    }
   ],
   "source": [
    "Sequance = tf.range(start=3, limit=22, delta=3)\n",
    "print(sess.run(Sequance))"
   ]
  },
  {
   "cell_type": "code",
   "execution_count": 13,
   "id": "bb286cea-5e29-469e-aaeb-bdb880163c5a",
   "metadata": {},
   "outputs": [
    {
     "name": "stdout",
     "output_type": "stream",
     "text": [
      "[ 2.          9.33333333 16.66666667 24.         31.33333333 38.66666667\n",
      " 46.        ]\n"
     ]
    }
   ],
   "source": [
    "H = tf.linspace(2, 46, 7)\n",
    "print(sess.run(H))"
   ]
  },
  {
   "cell_type": "code",
   "execution_count": 14,
   "id": "c7c47082-81e9-480d-b1a1-bcb797db775f",
   "metadata": {},
   "outputs": [
    {
     "name": "stdout",
     "output_type": "stream",
     "text": [
      "[[3.679074  5.9161735 5.150254  9.868216 ]\n",
      " [9.802662  8.84451   6.536599  0.9429443]\n",
      " [8.187195  8.938533  7.3258495 2.6620173]]\n"
     ]
    }
   ],
   "source": [
    "Rand = tf.random_uniform([3, 4], minval=0, maxval=10)\n",
    "print(sess.run(Rand))"
   ]
  },
  {
   "cell_type": "code",
   "execution_count": 15,
   "id": "ed0a2eb8-14d5-4c8e-8277-b8c0a42564aa",
   "metadata": {},
   "outputs": [
    {
     "name": "stdout",
     "output_type": "stream",
     "text": [
      "[[ 8.144684   1.777379   6.777107   5.020461 ]\n",
      " [ 4.87527    3.0469952 -2.1462264  6.514311 ]\n",
      " [ 3.0608635  4.2340364  5.840795  10.6676235]]\n"
     ]
    }
   ],
   "source": [
    "Rand_norm = tf.random_normal([3, 4], mean=5, stddev=4)\n",
    "print(sess.run(Rand_norm))"
   ]
  },
  {
   "cell_type": "code",
   "execution_count": 16,
   "id": "33c0135f-c064-41bf-aa93-f3a6047d4dd4",
   "metadata": {},
   "outputs": [
    {
     "name": "stdout",
     "output_type": "stream",
     "text": [
      "[ 0.7615942   0.9950547   0.99998784 -0.7615942   0.9051482  -0.99998784\n",
      "  0.9640276   0.9950547  -1.          0.9640276   1.        ]\n"
     ]
    }
   ],
   "source": [
    "tan = tf.nn.tanh([1, 3, 6, -1., 1.5, -6., 2, 3, -10., 2, 9])\n",
    "print(sess.run(tan))"
   ]
  },
  {
   "cell_type": "code",
   "execution_count": 17,
   "id": "4b862aef-950a-46b2-99ec-c639e2670b92",
   "metadata": {},
   "outputs": [
    {
     "name": "stdout",
     "output_type": "stream",
     "text": [
      "[7.3105860e-01 9.5257413e-01 9.9752736e-01 2.6894143e-01 8.1757450e-01\n",
      " 2.4726233e-03 8.8079709e-01 9.5257413e-01 4.5397868e-05 8.8079709e-01\n",
      " 9.9987662e-01]\n"
     ]
    }
   ],
   "source": [
    "sigm = tf.nn.sigmoid([1, 3, 6, -1., 1.5, -6., 2, 3, -10., 2, 9])\n",
    "print(sess.run(sigm))"
   ]
  },
  {
   "cell_type": "code",
   "execution_count": 18,
   "id": "6aa9cb00-adab-46e7-928d-2225336fd2ed",
   "metadata": {},
   "outputs": [
    {
     "name": "stdout",
     "output_type": "stream",
     "text": [
      "[1.  3.  6.  0.  1.5 0.  2.  3.  0.  2.  9. ]\n"
     ]
    }
   ],
   "source": [
    "relu = tf.nn.relu([1, 3, 6, -1., 1.5, -6., 2, 3, -10., 2, 9])\n",
    "print(sess.run(relu))"
   ]
  },
  {
   "cell_type": "markdown",
   "id": "512d8e3d-9881-4871-b361-3cfa770ab6bd",
   "metadata": {},
   "source": [
    "Функції втрат"
   ]
  },
  {
   "cell_type": "code",
   "execution_count": 19,
   "id": "908e5098-0126-4908-8330-858e316c3127",
   "metadata": {},
   "outputs": [],
   "source": [
    "pred = np.asarray([0.1, 2.0, 5.3, 2.1, 1.5, 9.3])\n",
    "X = tf.convert_to_tensor(pred)\n",
    "actual = np.asarray([0.2, 1.9, 5.0, 1.1, 1.2, 10.3])"
   ]
  },
  {
   "cell_type": "code",
   "execution_count": 20,
   "id": "c6734e60-ed9e-4474-a5f7-9590724ccb25",
   "metadata": {},
   "outputs": [
    {
     "name": "stdout",
     "output_type": "stream",
     "text": [
      "[0. 0. 0. 1. 0. 1.]\n"
     ]
    }
   ],
   "source": [
    "L2 = tf.square(pred-actual)\n",
    "L2_out = sess.run(tf.round(L2))\n",
    "print(L2_out)"
   ]
  },
  {
   "cell_type": "code",
   "execution_count": 21,
   "id": "ae7fd53f-bf1c-49b9-b702-db13ea65cefb",
   "metadata": {},
   "outputs": [
    {
     "name": "stdout",
     "output_type": "stream",
     "text": [
      "[0.1 0.1 0.3 1.  0.3 1. ]\n"
     ]
    }
   ],
   "source": [
    "L1 = tf.abs(pred-actual)\n",
    "L1_out = sess.run(L1)\n",
    "print(L1_out)"
   ]
  },
  {
   "cell_type": "code",
   "execution_count": 22,
   "id": "47f117e7-7712-4bc7-bdb6-827a8e10c253",
   "metadata": {},
   "outputs": [
    {
     "name": "stdout",
     "output_type": "stream",
     "text": [
      "[0.74439666 0.74439666 0.85435524 0.31326169 0.85435524 0.31326169]\n"
     ]
    }
   ],
   "source": [
    "softmax_xentropy = tf.nn.sigmoid_cross_entropy_with_logits(logits=L1_out, labels=L2_out)\n",
    "print(sess.run(softmax_xentropy))"
   ]
  },
  {
   "cell_type": "markdown",
   "id": "f4342f1c-f3da-4d60-be0b-8aa489d4ab6c",
   "metadata": {},
   "source": [
    "Оптимізатори"
   ]
  },
  {
   "cell_type": "code",
   "execution_count": 23,
   "id": "b9df7729-b6d6-4b2d-b3b2-29298a208af9",
   "metadata": {},
   "outputs": [],
   "source": [
    "x = tf.Variable(4, name='x', dtype=tf.float32)\n",
    "log_x = tf.log(x)\n",
    "log_x_squared = tf.square(log_x)"
   ]
  },
  {
   "cell_type": "code",
   "execution_count": 24,
   "id": "260fd9e8-6888-44c0-bc85-a78016d3c414",
   "metadata": {},
   "outputs": [],
   "source": [
    "optimizer = tf.train.GradientDescentOptimizer(0.7)\n",
    "train = optimizer.minimize(log_x_squared)"
   ]
  },
  {
   "cell_type": "code",
   "execution_count": 25,
   "id": "61aa8996-9e9e-4319-ba5b-c44733aa6289",
   "metadata": {},
   "outputs": [],
   "source": [
    "init = tf.global_variables_initializer()"
   ]
  },
  {
   "cell_type": "code",
   "execution_count": 26,
   "id": "e874e596-4ca9-4bd7-8e1f-9fc5b80427b1",
   "metadata": {},
   "outputs": [
    {
     "name": "stdout",
     "output_type": "stream",
     "text": [
      "starting at x: 4.0 log(x)^2: 1.921812\n",
      "step 0 x: 3.514797 log(x)^2: 1.580003\n",
      "step 1 x: 3.014121 log(x)^2: 1.217289\n",
      "step 2 x: 2.501656 log(x)^2: 0.8408027\n",
      "step 3 x: 1.9885024 log(x)^2: 0.47249374\n",
      "step 4 x: 1.5045531 log(x)^2: 0.16686891\n",
      "step 5 x: 1.124444 log(x)^2: 0.013756639\n",
      "step 6 x: 0.97841257 log(x)^2: 0.0004762804\n",
      "step 7 x: 1.0096401 log(x)^2: 9.204346e-05\n",
      "step 8 x: 0.9963368 log(x)^2: 1.3468225e-05\n",
      "step 9 x: 1.0014936 log(x)^2: 2.2274335e-06\n"
     ]
    }
   ],
   "source": [
    "with tf.Session() as session:\n",
    "    session.run(init)\n",
    "    print(\"starting at x:\", session.run(x), \"log(x)^2:\", session.run(log_x_squared))\n",
    "    for step in range(10):\n",
    "        session.run(train)\n",
    "        print(\"step\", step, \"x:\", session.run(x), \"log(x)^2:\", session.run(log_x_squared))"
   ]
  },
  {
   "cell_type": "markdown",
   "id": "c7e07d64-4c13-4577-a0e2-5d1f81a22134",
   "metadata": {},
   "source": [
    "Метрики"
   ]
  },
  {
   "cell_type": "code",
   "execution_count": 32,
   "id": "3953521c-a7da-488b-9ea7-6cf87a0a756d",
   "metadata": {},
   "outputs": [],
   "source": [
    "x2 = tf.placeholder(tf.int32, [5])\n",
    "y2 = tf.placeholder(tf.int32, [5])"
   ]
  },
  {
   "cell_type": "code",
   "execution_count": 33,
   "id": "5d79302a-f5e6-491a-91d3-ed8485176b7f",
   "metadata": {},
   "outputs": [],
   "source": [
    "acc, acc_op = tf.metrics.accuracy(labels=x2, predictions=y2)"
   ]
  },
  {
   "cell_type": "code",
   "execution_count": 34,
   "id": "4948a687-911a-47ab-b66a-e1028e41267a",
   "metadata": {},
   "outputs": [],
   "source": [
    "sess.run(tf.global_variables_initializer())\n",
    "sess.run(tf.local_variables_initializer())"
   ]
  },
  {
   "cell_type": "code",
   "execution_count": 35,
   "id": "6201a78f-10da-4287-b656-ce41c49a1212",
   "metadata": {},
   "outputs": [],
   "source": [
    "val = sess.run([acc, acc_op], feed_dict={x2: [1, 0, 1, 0, 1], y2: [1, 1, 1, 0, 0]})"
   ]
  },
  {
   "cell_type": "code",
   "execution_count": 38,
   "id": "6e6a5fe1-6de8-48dc-ae7f-ae7faa631a38",
   "metadata": {},
   "outputs": [
    {
     "name": "stdout",
     "output_type": "stream",
     "text": [
      "0.6\n"
     ]
    }
   ],
   "source": [
    "val_acc = sess.run(acc)\n",
    "print(val_acc)"
   ]
  },
  {
   "cell_type": "code",
   "execution_count": null,
   "id": "91f44b85-47d6-43ea-af6e-71320c4a1af5",
   "metadata": {},
   "outputs": [],
   "source": []
  }
 ],
 "metadata": {
  "kernelspec": {
   "display_name": "Python 3 (ipykernel)",
   "language": "python",
   "name": "python3"
  },
  "language_info": {
   "codemirror_mode": {
    "name": "ipython",
    "version": 3
   },
   "file_extension": ".py",
   "mimetype": "text/x-python",
   "name": "python",
   "nbconvert_exporter": "python",
   "pygments_lexer": "ipython3",
   "version": "3.10.2"
  }
 },
 "nbformat": 4,
 "nbformat_minor": 5
}
